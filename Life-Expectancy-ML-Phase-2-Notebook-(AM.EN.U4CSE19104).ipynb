{
 "cells": [
  {
   "cell_type": "markdown",
   "id": "18204517",
   "metadata": {},
   "source": [
    "### Name: Akshay Hari\n",
    "### Roll: AM.EN.U4CSE19104"
   ]
  },
  {
   "cell_type": "code",
   "execution_count": 3,
   "id": "4d64ca78",
   "metadata": {},
   "outputs": [],
   "source": [
    "import numpy as np\n",
    "import pandas as pd\n",
    "import matplotlib.pyplot as plt\n",
    "import warnings\n",
    "warnings.filterwarnings('ignore')"
   ]
  },
  {
   "cell_type": "markdown",
   "id": "6268cadb",
   "metadata": {},
   "source": [
    "### Reading The Data"
   ]
  },
  {
   "cell_type": "code",
   "execution_count": 209,
   "id": "881f7bdd",
   "metadata": {
    "scrolled": false
   },
   "outputs": [
    {
     "data": {
      "text/html": [
       "<div>\n",
       "<style scoped>\n",
       "    .dataframe tbody tr th:only-of-type {\n",
       "        vertical-align: middle;\n",
       "    }\n",
       "\n",
       "    .dataframe tbody tr th {\n",
       "        vertical-align: top;\n",
       "    }\n",
       "\n",
       "    .dataframe thead th {\n",
       "        text-align: right;\n",
       "    }\n",
       "</style>\n",
       "<table border=\"1\" class=\"dataframe\">\n",
       "  <thead>\n",
       "    <tr style=\"text-align: right;\">\n",
       "      <th></th>\n",
       "      <th>Entity</th>\n",
       "      <th>Year</th>\n",
       "      <th>Life expectancy</th>\n",
       "    </tr>\n",
       "  </thead>\n",
       "  <tbody>\n",
       "    <tr>\n",
       "      <th>0</th>\n",
       "      <td>Australia</td>\n",
       "      <td>1802</td>\n",
       "      <td>34.049999</td>\n",
       "    </tr>\n",
       "    <tr>\n",
       "      <th>1</th>\n",
       "      <td>Australia</td>\n",
       "      <td>1803</td>\n",
       "      <td>34.049999</td>\n",
       "    </tr>\n",
       "    <tr>\n",
       "      <th>2</th>\n",
       "      <td>Australia</td>\n",
       "      <td>1804</td>\n",
       "      <td>34.049999</td>\n",
       "    </tr>\n",
       "    <tr>\n",
       "      <th>3</th>\n",
       "      <td>Australia</td>\n",
       "      <td>1805</td>\n",
       "      <td>34.049999</td>\n",
       "    </tr>\n",
       "    <tr>\n",
       "      <th>4</th>\n",
       "      <td>Australia</td>\n",
       "      <td>1806</td>\n",
       "      <td>34.049999</td>\n",
       "    </tr>\n",
       "    <tr>\n",
       "      <th>...</th>\n",
       "      <td>...</td>\n",
       "      <td>...</td>\n",
       "      <td>...</td>\n",
       "    </tr>\n",
       "    <tr>\n",
       "      <th>3248</th>\n",
       "      <td>United States</td>\n",
       "      <td>2012</td>\n",
       "      <td>78.940002</td>\n",
       "    </tr>\n",
       "    <tr>\n",
       "      <th>3249</th>\n",
       "      <td>United States</td>\n",
       "      <td>2013</td>\n",
       "      <td>78.959999</td>\n",
       "    </tr>\n",
       "    <tr>\n",
       "      <th>3250</th>\n",
       "      <td>United States</td>\n",
       "      <td>2014</td>\n",
       "      <td>78.940002</td>\n",
       "    </tr>\n",
       "    <tr>\n",
       "      <th>3251</th>\n",
       "      <td>United States</td>\n",
       "      <td>2015</td>\n",
       "      <td>78.870003</td>\n",
       "    </tr>\n",
       "    <tr>\n",
       "      <th>3252</th>\n",
       "      <td>United States</td>\n",
       "      <td>2016</td>\n",
       "      <td>78.860001</td>\n",
       "    </tr>\n",
       "  </tbody>\n",
       "</table>\n",
       "<p>3253 rows × 3 columns</p>\n",
       "</div>"
      ],
      "text/plain": [
       "             Entity  Year  Life expectancy\n",
       "0         Australia  1802        34.049999\n",
       "1         Australia  1803        34.049999\n",
       "2         Australia  1804        34.049999\n",
       "3         Australia  1805        34.049999\n",
       "4         Australia  1806        34.049999\n",
       "...             ...   ...              ...\n",
       "3248  United States  2012        78.940002\n",
       "3249  United States  2013        78.959999\n",
       "3250  United States  2014        78.940002\n",
       "3251  United States  2015        78.870003\n",
       "3252  United States  2016        78.860001\n",
       "\n",
       "[3253 rows x 3 columns]"
      ]
     },
     "execution_count": 209,
     "metadata": {},
     "output_type": "execute_result"
    }
   ],
   "source": [
    "df = pd.read_csv(\"Life-Expectancy.csv\")\n",
    "df"
   ]
  },
  {
   "cell_type": "code",
   "execution_count": 210,
   "id": "0598e1a9",
   "metadata": {},
   "outputs": [
    {
     "data": {
      "text/plain": [
       "(3253, 3)"
      ]
     },
     "execution_count": 210,
     "metadata": {},
     "output_type": "execute_result"
    }
   ],
   "source": [
    "df.shape"
   ]
  },
  {
   "cell_type": "markdown",
   "id": "22a67f00",
   "metadata": {},
   "source": [
    "> Dataset consists of 3253 samples and 3 features"
   ]
  },
  {
   "cell_type": "code",
   "execution_count": 211,
   "id": "9560dc4e",
   "metadata": {},
   "outputs": [],
   "source": [
    "df = df.dropna(axis=0)"
   ]
  },
  {
   "cell_type": "markdown",
   "id": "9b1efc5f",
   "metadata": {},
   "source": [
    "> Drops NaN values if any"
   ]
  },
  {
   "cell_type": "markdown",
   "id": "1d08ad20",
   "metadata": {},
   "source": [
    "### Break-Down Of Features"
   ]
  },
  {
   "cell_type": "code",
   "execution_count": 212,
   "id": "abc7279f",
   "metadata": {},
   "outputs": [
    {
     "data": {
      "text/plain": [
       "0           Australia\n",
       "1           Australia\n",
       "2           Australia\n",
       "3           Australia\n",
       "4           Australia\n",
       "            ...      \n",
       "3248    United States\n",
       "3249    United States\n",
       "3250    United States\n",
       "3251    United States\n",
       "3252    United States\n",
       "Name: Entity, Length: 3253, dtype: object"
      ]
     },
     "execution_count": 212,
     "metadata": {},
     "output_type": "execute_result"
    }
   ],
   "source": [
    "df['Entity']"
   ]
  },
  {
   "cell_type": "code",
   "execution_count": 213,
   "id": "bafea8a9",
   "metadata": {},
   "outputs": [
    {
     "data": {
      "text/plain": [
       "0       1802\n",
       "1       1803\n",
       "2       1804\n",
       "3       1805\n",
       "4       1806\n",
       "        ... \n",
       "3248    2012\n",
       "3249    2013\n",
       "3250    2014\n",
       "3251    2015\n",
       "3252    2016\n",
       "Name: Year, Length: 3253, dtype: int64"
      ]
     },
     "execution_count": 213,
     "metadata": {},
     "output_type": "execute_result"
    }
   ],
   "source": [
    "df['Year']"
   ]
  },
  {
   "cell_type": "code",
   "execution_count": 214,
   "id": "a747bf88",
   "metadata": {},
   "outputs": [
    {
     "data": {
      "text/plain": [
       "0       34.049999\n",
       "1       34.049999\n",
       "2       34.049999\n",
       "3       34.049999\n",
       "4       34.049999\n",
       "          ...    \n",
       "3248    78.940002\n",
       "3249    78.959999\n",
       "3250    78.940002\n",
       "3251    78.870003\n",
       "3252    78.860001\n",
       "Name: Life expectancy, Length: 3253, dtype: float64"
      ]
     },
     "execution_count": 214,
     "metadata": {},
     "output_type": "execute_result"
    }
   ],
   "source": [
    "df['Life expectancy']"
   ]
  },
  {
   "cell_type": "code",
   "execution_count": 215,
   "id": "f8feff4f",
   "metadata": {
    "scrolled": true
   },
   "outputs": [
    {
     "data": {
      "text/plain": [
       "array([1802, 1803, 1804, 1805, 1806, 1807, 1808, 1809, 1810, 1811, 1812,\n",
       "       1813, 1814, 1815, 1816, 1817, 1818, 1819, 1820, 1821, 1822, 1823,\n",
       "       1824, 1825, 1826, 1827, 1828, 1829, 1830, 1831, 1832, 1833, 1834,\n",
       "       1835, 1836, 1837, 1838, 1839, 1840, 1841, 1842, 1843, 1844, 1845,\n",
       "       1846, 1847, 1848, 1849, 1850, 1851, 1852, 1853, 1854, 1855, 1856,\n",
       "       1857, 1858, 1859, 1860, 1861, 1862, 1863, 1864, 1865, 1866, 1867,\n",
       "       1868, 1869, 1870, 1871, 1872, 1873, 1874, 1875, 1876, 1877, 1878,\n",
       "       1879, 1880, 1881, 1882, 1883, 1884, 1885, 1886, 1887, 1888, 1889,\n",
       "       1890, 1891, 1892, 1893, 1894, 1895, 1896, 1897, 1898, 1899, 1900,\n",
       "       1901, 1902, 1903, 1904, 1905, 1906, 1907, 1908, 1909, 1910, 1911,\n",
       "       1912, 1913, 1914, 1915, 1916, 1917, 1918, 1919, 1920, 1921, 1922,\n",
       "       1923, 1924, 1925, 1926, 1927, 1928, 1929, 1930, 1931, 1932, 1933,\n",
       "       1934, 1935, 1936, 1937, 1938, 1939, 1940, 1941, 1942, 1943, 1944,\n",
       "       1945, 1946, 1947, 1948, 1949, 1950, 1951, 1952, 1953, 1954, 1955,\n",
       "       1956, 1957, 1958, 1959, 1960, 1961, 1962, 1963, 1964, 1965, 1966,\n",
       "       1967, 1968, 1969, 1970, 1971, 1972, 1973, 1974, 1975, 1976, 1977,\n",
       "       1978, 1979, 1980, 1981, 1982, 1983, 1984, 1985, 1986, 1987, 1988,\n",
       "       1989, 1990, 1991, 1992, 1993, 1994, 1995, 1996, 1997, 1998, 1999,\n",
       "       2000, 2001, 2002, 2003, 2004, 2005, 2006, 2007, 2008, 2009, 2010,\n",
       "       2011, 2012, 2013, 2014, 2015, 2016, 1800, 1801])"
      ]
     },
     "execution_count": 215,
     "metadata": {},
     "output_type": "execute_result"
    }
   ],
   "source": [
    "df['Year'].unique()"
   ]
  },
  {
   "cell_type": "markdown",
   "id": "20a9d20d",
   "metadata": {},
   "source": [
    "> Dataset consists of data between the years 1800 and 2016."
   ]
  },
  {
   "cell_type": "code",
   "execution_count": 216,
   "id": "6b5811e6",
   "metadata": {
    "scrolled": true
   },
   "outputs": [
    {
     "data": {
      "text/plain": [
       "array(['Australia', 'Brazil', 'Canada', 'China', 'France', 'Germany',\n",
       "       'India', 'Italy', 'Japan', 'Mexico', 'Russia', 'Spain',\n",
       "       'Switzerland', 'United Kingdom', 'United States'], dtype=object)"
      ]
     },
     "execution_count": 216,
     "metadata": {},
     "output_type": "execute_result"
    }
   ],
   "source": [
    "df['Entity'].unique()"
   ]
  },
  {
   "cell_type": "markdown",
   "id": "16e64983",
   "metadata": {},
   "source": [
    "> Also there are 15 different countries in the dataset.\n",
    "\n"
   ]
  },
  {
   "cell_type": "markdown",
   "id": "fd7f3a88",
   "metadata": {},
   "source": [
    "### Data Visualization"
   ]
  },
  {
   "cell_type": "code",
   "execution_count": 217,
   "id": "730d1f70",
   "metadata": {},
   "outputs": [
    {
     "name": "stdout",
     "output_type": "stream",
     "text": [
      "<class 'pandas.core.frame.DataFrame'>\n",
      "Int64Index: 3253 entries, 0 to 3252\n",
      "Data columns (total 3 columns):\n",
      " #   Column           Non-Null Count  Dtype  \n",
      "---  ------           --------------  -----  \n",
      " 0   Entity           3253 non-null   object \n",
      " 1   Year             3253 non-null   int64  \n",
      " 2   Life expectancy  3253 non-null   float64\n",
      "dtypes: float64(1), int64(1), object(1)\n",
      "memory usage: 101.7+ KB\n"
     ]
    }
   ],
   "source": [
    "df.info()"
   ]
  },
  {
   "cell_type": "code",
   "execution_count": 218,
   "id": "f3aa3388",
   "metadata": {},
   "outputs": [
    {
     "data": {
      "text/html": [
       "<div>\n",
       "<style scoped>\n",
       "    .dataframe tbody tr th:only-of-type {\n",
       "        vertical-align: middle;\n",
       "    }\n",
       "\n",
       "    .dataframe tbody tr th {\n",
       "        vertical-align: top;\n",
       "    }\n",
       "\n",
       "    .dataframe thead th {\n",
       "        text-align: right;\n",
       "    }\n",
       "</style>\n",
       "<table border=\"1\" class=\"dataframe\">\n",
       "  <thead>\n",
       "    <tr style=\"text-align: right;\">\n",
       "      <th></th>\n",
       "      <th>Entity</th>\n",
       "      <th>Year</th>\n",
       "      <th>Life expectancy</th>\n",
       "    </tr>\n",
       "  </thead>\n",
       "  <tbody>\n",
       "    <tr>\n",
       "      <th>count</th>\n",
       "      <td>3253</td>\n",
       "      <td>3253.000000</td>\n",
       "      <td>3253.000000</td>\n",
       "    </tr>\n",
       "    <tr>\n",
       "      <th>unique</th>\n",
       "      <td>15</td>\n",
       "      <td>NaN</td>\n",
       "      <td>NaN</td>\n",
       "    </tr>\n",
       "    <tr>\n",
       "      <th>top</th>\n",
       "      <td>United Kingdom</td>\n",
       "      <td>NaN</td>\n",
       "      <td>NaN</td>\n",
       "    </tr>\n",
       "    <tr>\n",
       "      <th>freq</th>\n",
       "      <td>217</td>\n",
       "      <td>NaN</td>\n",
       "      <td>NaN</td>\n",
       "    </tr>\n",
       "    <tr>\n",
       "      <th>mean</th>\n",
       "      <td>NaN</td>\n",
       "      <td>1908.066093</td>\n",
       "      <td>48.680380</td>\n",
       "    </tr>\n",
       "    <tr>\n",
       "      <th>std</th>\n",
       "      <td>NaN</td>\n",
       "      <td>62.613962</td>\n",
       "      <td>17.965669</td>\n",
       "    </tr>\n",
       "    <tr>\n",
       "      <th>min</th>\n",
       "      <td>NaN</td>\n",
       "      <td>1800.000000</td>\n",
       "      <td>8.108836</td>\n",
       "    </tr>\n",
       "    <tr>\n",
       "      <th>25%</th>\n",
       "      <td>NaN</td>\n",
       "      <td>1854.000000</td>\n",
       "      <td>32.000000</td>\n",
       "    </tr>\n",
       "    <tr>\n",
       "      <th>50%</th>\n",
       "      <td>NaN</td>\n",
       "      <td>1908.000000</td>\n",
       "      <td>41.880001</td>\n",
       "    </tr>\n",
       "    <tr>\n",
       "      <th>75%</th>\n",
       "      <td>NaN</td>\n",
       "      <td>1962.000000</td>\n",
       "      <td>66.820000</td>\n",
       "    </tr>\n",
       "    <tr>\n",
       "      <th>max</th>\n",
       "      <td>NaN</td>\n",
       "      <td>2016.000000</td>\n",
       "      <td>83.940002</td>\n",
       "    </tr>\n",
       "  </tbody>\n",
       "</table>\n",
       "</div>"
      ],
      "text/plain": [
       "                Entity         Year  Life expectancy\n",
       "count             3253  3253.000000      3253.000000\n",
       "unique              15          NaN              NaN\n",
       "top     United Kingdom          NaN              NaN\n",
       "freq               217          NaN              NaN\n",
       "mean               NaN  1908.066093        48.680380\n",
       "std                NaN    62.613962        17.965669\n",
       "min                NaN  1800.000000         8.108836\n",
       "25%                NaN  1854.000000        32.000000\n",
       "50%                NaN  1908.000000        41.880001\n",
       "75%                NaN  1962.000000        66.820000\n",
       "max                NaN  2016.000000        83.940002"
      ]
     },
     "execution_count": 218,
     "metadata": {},
     "output_type": "execute_result"
    }
   ],
   "source": [
    "df.describe(include='all')"
   ]
  },
  {
   "cell_type": "markdown",
   "id": "c7207bc3",
   "metadata": {},
   "source": [
    "> Dataset consists of 216 years of data on life expectancy from different continents."
   ]
  },
  {
   "cell_type": "markdown",
   "id": "7c4762a5",
   "metadata": {},
   "source": [
    "### Life Expectancy Of India (2000 - 2016)"
   ]
  },
  {
   "cell_type": "code",
   "execution_count": 219,
   "id": "1f893fb1",
   "metadata": {
    "scrolled": false
   },
   "outputs": [
    {
     "data": {
      "text/html": [
       "<div>\n",
       "<style scoped>\n",
       "    .dataframe tbody tr th:only-of-type {\n",
       "        vertical-align: middle;\n",
       "    }\n",
       "\n",
       "    .dataframe tbody tr th {\n",
       "        vertical-align: top;\n",
       "    }\n",
       "\n",
       "    .dataframe thead th {\n",
       "        text-align: right;\n",
       "    }\n",
       "</style>\n",
       "<table border=\"1\" class=\"dataframe\">\n",
       "  <thead>\n",
       "    <tr style=\"text-align: right;\">\n",
       "      <th></th>\n",
       "      <th>Entity</th>\n",
       "      <th>Year</th>\n",
       "      <th>Life expectancy</th>\n",
       "    </tr>\n",
       "  </thead>\n",
       "  <tbody>\n",
       "    <tr>\n",
       "      <th>1300</th>\n",
       "      <td>India</td>\n",
       "      <td>1800</td>\n",
       "      <td>25.442400</td>\n",
       "    </tr>\n",
       "    <tr>\n",
       "      <th>1301</th>\n",
       "      <td>India</td>\n",
       "      <td>1801</td>\n",
       "      <td>25.442400</td>\n",
       "    </tr>\n",
       "    <tr>\n",
       "      <th>1302</th>\n",
       "      <td>India</td>\n",
       "      <td>1802</td>\n",
       "      <td>25.000000</td>\n",
       "    </tr>\n",
       "    <tr>\n",
       "      <th>1303</th>\n",
       "      <td>India</td>\n",
       "      <td>1803</td>\n",
       "      <td>24.000000</td>\n",
       "    </tr>\n",
       "    <tr>\n",
       "      <th>1304</th>\n",
       "      <td>India</td>\n",
       "      <td>1804</td>\n",
       "      <td>23.500000</td>\n",
       "    </tr>\n",
       "    <tr>\n",
       "      <th>...</th>\n",
       "      <td>...</td>\n",
       "      <td>...</td>\n",
       "      <td>...</td>\n",
       "    </tr>\n",
       "    <tr>\n",
       "      <th>1512</th>\n",
       "      <td>India</td>\n",
       "      <td>2012</td>\n",
       "      <td>66.910004</td>\n",
       "    </tr>\n",
       "    <tr>\n",
       "      <th>1513</th>\n",
       "      <td>India</td>\n",
       "      <td>2013</td>\n",
       "      <td>67.279999</td>\n",
       "    </tr>\n",
       "    <tr>\n",
       "      <th>1514</th>\n",
       "      <td>India</td>\n",
       "      <td>2014</td>\n",
       "      <td>67.720001</td>\n",
       "    </tr>\n",
       "    <tr>\n",
       "      <th>1515</th>\n",
       "      <td>India</td>\n",
       "      <td>2015</td>\n",
       "      <td>68.099998</td>\n",
       "    </tr>\n",
       "    <tr>\n",
       "      <th>1516</th>\n",
       "      <td>India</td>\n",
       "      <td>2016</td>\n",
       "      <td>68.550003</td>\n",
       "    </tr>\n",
       "  </tbody>\n",
       "</table>\n",
       "<p>217 rows × 3 columns</p>\n",
       "</div>"
      ],
      "text/plain": [
       "     Entity  Year  Life expectancy\n",
       "1300  India  1800        25.442400\n",
       "1301  India  1801        25.442400\n",
       "1302  India  1802        25.000000\n",
       "1303  India  1803        24.000000\n",
       "1304  India  1804        23.500000\n",
       "...     ...   ...              ...\n",
       "1512  India  2012        66.910004\n",
       "1513  India  2013        67.279999\n",
       "1514  India  2014        67.720001\n",
       "1515  India  2015        68.099998\n",
       "1516  India  2016        68.550003\n",
       "\n",
       "[217 rows x 3 columns]"
      ]
     },
     "execution_count": 219,
     "metadata": {},
     "output_type": "execute_result"
    }
   ],
   "source": [
    "India =df[df['Entity'] == 'India']\n",
    "India"
   ]
  },
  {
   "cell_type": "code",
   "execution_count": 220,
   "id": "3e2c7cf2",
   "metadata": {},
   "outputs": [],
   "source": [
    "test = India['Year'].values\n",
    "lr = India['Life expectancy'].values\n"
   ]
  },
  {
   "cell_type": "code",
   "execution_count": 221,
   "id": "0b1a5eaf",
   "metadata": {},
   "outputs": [],
   "source": [
    "yrs = []\n",
    "lex = []\n",
    "\n",
    "for i in range(len(test)):\n",
    "    \n",
    "    if(test[i] >= 2000):\n",
    "        \n",
    "        yrs.append(test[i])\n",
    "        lex.append(lr[i])"
   ]
  },
  {
   "cell_type": "markdown",
   "id": "89d5285a",
   "metadata": {},
   "source": [
    "### Graph Depicting Linear Increase Of Life Expectancy Rates in India"
   ]
  },
  {
   "cell_type": "code",
   "execution_count": 222,
   "id": "c8da13fb",
   "metadata": {
    "scrolled": false
   },
   "outputs": [
    {
     "data": {
      "image/png": "[encoded data removed]",
      "text/plain": [
       "<Figure size 540x540 with 1 Axes>"
      ]
     },
     "metadata": {
      "needs_background": "light"
     },
     "output_type": "display_data"
    }
   ],
   "source": [
    "plt.plot(yrs,lex, color='red')\n",
    "plt.xlabel('Year')\n",
    "plt.ylabel('Life Expectancy')\n",
    "plt.title(\"India\")\n",
    "plt.show()"
   ]
  },
  {
   "cell_type": "markdown",
   "id": "59505c3b",
   "metadata": {},
   "source": [
    "> We can observe that there is a **Linear Increase** Of Life Expectancy rates over the past few years "
   ]
  },
  {
   "cell_type": "code",
   "execution_count": 223,
   "id": "d43ecb95",
   "metadata": {
    "scrolled": false
   },
   "outputs": [
    {
     "data": {
      "image/png": "[encoded data removed]",
      "text/plain": [
       "<Figure size 1080x360 with 1 Axes>"
      ]
     },
     "metadata": {
      "needs_background": "light"
     },
     "output_type": "display_data"
    }
   ],
   "source": [
    "plt.figure(figsize=(15,5))\n",
    "plt.bar(yrs,lex,color='red',alpha=0.85)\n",
    "plt.xlabel(\"Year\",fontsize=12)\n",
    "plt.ylabel(\"Avg Life_Expectancy\",fontsize=12)\n",
    "plt.title(\"India's Life_Expectancy w.r.t Year\")\n",
    "plt.show()"
   ]
  },
  {
   "cell_type": "markdown",
   "id": "8ae6aaee",
   "metadata": {},
   "source": [
    "> India's Life Expectancy rates have improved over the years 2000-2016, with an average rate of 60."
   ]
  },
  {
   "cell_type": "markdown",
   "id": "7d4fd5a3",
   "metadata": {},
   "source": [
    "### Analyzing The Data"
   ]
  },
  {
   "cell_type": "code",
   "execution_count": 224,
   "id": "c0ada5c5",
   "metadata": {},
   "outputs": [
    {
     "data": {
      "image/png": "[encoded data removed]",
      "text/plain": [
       "<Figure size 540x540 with 1 Axes>"
      ]
     },
     "metadata": {
      "needs_background": "light"
     },
     "output_type": "display_data"
    }
   ],
   "source": [
    "plt.hist(df['Life expectancy'], density=False, bins=30)\n",
    "plt.ylabel('Count')\n",
    "plt.xlabel('Life Expectancy');"
   ]
  },
  {
   "cell_type": "markdown",
   "id": "5e0cc61d",
   "metadata": {},
   "source": [
    "> It is evident from the histogram that the dataset follows a right skewed distribution. Even though median score is almost 42 years, distribution density increases at around 50 years. There are quite a lot of life expectancy rates bigger than median value of life expectancy."
   ]
  },
  {
   "cell_type": "markdown",
   "id": "0a042ea3",
   "metadata": {},
   "source": [
    "### Scatterplot - Life Expectancy Of Countries corresponding to the years"
   ]
  },
  {
   "cell_type": "code",
   "execution_count": 225,
   "id": "364aca3f",
   "metadata": {},
   "outputs": [
    {
     "data": {
      "text/plain": [
       "<matplotlib.collections.PathCollection at 0x7f393b3fc8b0>"
      ]
     },
     "execution_count": 225,
     "metadata": {},
     "output_type": "execute_result"
    },
    {
     "data": {
      "image/png": "[encoded data removed]",
      "text/plain": [
       "<Figure size 540x540 with 1 Axes>"
      ]
     },
     "metadata": {
      "needs_background": "light"
     },
     "output_type": "display_data"
    }
   ],
   "source": [
    "plt.scatter(x='Year', y='Life expectancy', data=df)"
   ]
  },
  {
   "cell_type": "markdown",
   "id": "403dda43",
   "metadata": {},
   "source": [
    "### Box Plot Depicting Life Expectancy Rates of 3 countries"
   ]
  },
  {
   "cell_type": "code",
   "execution_count": 226,
   "id": "cfd8c6fa",
   "metadata": {
    "scrolled": false
   },
   "outputs": [
    {
     "data": {
      "text/plain": [
       "<AxesSubplot:title={'center':'Life expectancy'}, xlabel='Entity'>"
      ]
     },
     "execution_count": 226,
     "metadata": {},
     "output_type": "execute_result"
    },
    {
     "data": {
      "image/png": "[encoded data removed]",
      "text/plain": [
       "<Figure size 540x540 with 1 Axes>"
      ]
     },
     "metadata": {
      "needs_background": "light"
     },
     "output_type": "display_data"
    }
   ],
   "source": [
    "df[df.Entity.isin(['Australia','India','United States'])].boxplot(by='Entity', \n",
    "                       column=['Life expectancy'], \n",
    "                       grid=False)"
   ]
  },
  {
   "cell_type": "markdown",
   "id": "9372e99b",
   "metadata": {},
   "source": [
    ">The boxplot representation of Australia depicts that the average life expectancy rates of the country were evenly spread out over the years, with the maximum at the range of 80 - 83 and the minimum at the range of 34-36. "
   ]
  },
  {
   "cell_type": "markdown",
   "id": "c6d6c9ec",
   "metadata": {},
   "source": [
    ">The boxplot representation of India depicts that the average life expectancy rates of the country fall in the lower end of the IQR, with the maximum at the range of 67 - 69 and the minimum at the range of 8-10."
   ]
  },
  {
   "cell_type": "markdown",
   "id": "04fcaed1",
   "metadata": {},
   "source": [
    ">The boxplot representation of the United States depicts that the average life expectancy rates of the country fall in the upper end of the IQR, with the maximum at the range of 77-79 and the minimum at the range of 30-33."
   ]
  },
  {
   "cell_type": "markdown",
   "id": "a3549ae9",
   "metadata": {},
   "source": [
    "### Breaking down Life Expectancy Rates in sorted order"
   ]
  },
  {
   "cell_type": "code",
   "execution_count": 227,
   "id": "ecac27fe",
   "metadata": {
    "scrolled": false
   },
   "outputs": [
    {
     "data": {
      "text/html": [
       "<div>\n",
       "<style scoped>\n",
       "    .dataframe tbody tr th:only-of-type {\n",
       "        vertical-align: middle;\n",
       "    }\n",
       "\n",
       "    .dataframe tbody tr th {\n",
       "        vertical-align: top;\n",
       "    }\n",
       "\n",
       "    .dataframe thead th {\n",
       "        text-align: right;\n",
       "    }\n",
       "</style>\n",
       "<table border=\"1\" class=\"dataframe\">\n",
       "  <thead>\n",
       "    <tr style=\"text-align: right;\">\n",
       "      <th></th>\n",
       "      <th>Entity</th>\n",
       "      <th>Year</th>\n",
       "      <th>Life expectancy</th>\n",
       "    </tr>\n",
       "  </thead>\n",
       "  <tbody>\n",
       "    <tr>\n",
       "      <th>1418</th>\n",
       "      <td>India</td>\n",
       "      <td>1918</td>\n",
       "      <td>8.108836</td>\n",
       "    </tr>\n",
       "    <tr>\n",
       "      <th>2311</th>\n",
       "      <td>Russia</td>\n",
       "      <td>1943</td>\n",
       "      <td>16.000000</td>\n",
       "    </tr>\n",
       "    <tr>\n",
       "      <th>2301</th>\n",
       "      <td>Russia</td>\n",
       "      <td>1933</td>\n",
       "      <td>17.350000</td>\n",
       "    </tr>\n",
       "    <tr>\n",
       "      <th>2216</th>\n",
       "      <td>Russia</td>\n",
       "      <td>1848</td>\n",
       "      <td>18.000000</td>\n",
       "    </tr>\n",
       "    <tr>\n",
       "      <th>2310</th>\n",
       "      <td>Russia</td>\n",
       "      <td>1942</td>\n",
       "      <td>18.000000</td>\n",
       "    </tr>\n",
       "    <tr>\n",
       "      <th>...</th>\n",
       "      <td>...</td>\n",
       "      <td>...</td>\n",
       "      <td>...</td>\n",
       "    </tr>\n",
       "    <tr>\n",
       "      <th>1946</th>\n",
       "      <td>Japan</td>\n",
       "      <td>2012</td>\n",
       "      <td>83.230003</td>\n",
       "    </tr>\n",
       "    <tr>\n",
       "      <th>1947</th>\n",
       "      <td>Japan</td>\n",
       "      <td>2013</td>\n",
       "      <td>83.440002</td>\n",
       "    </tr>\n",
       "    <tr>\n",
       "      <th>1948</th>\n",
       "      <td>Japan</td>\n",
       "      <td>2014</td>\n",
       "      <td>83.690002</td>\n",
       "    </tr>\n",
       "    <tr>\n",
       "      <th>1949</th>\n",
       "      <td>Japan</td>\n",
       "      <td>2015</td>\n",
       "      <td>83.830002</td>\n",
       "    </tr>\n",
       "    <tr>\n",
       "      <th>1950</th>\n",
       "      <td>Japan</td>\n",
       "      <td>2016</td>\n",
       "      <td>83.940002</td>\n",
       "    </tr>\n",
       "  </tbody>\n",
       "</table>\n",
       "<p>3253 rows × 3 columns</p>\n",
       "</div>"
      ],
      "text/plain": [
       "      Entity  Year  Life expectancy\n",
       "1418   India  1918         8.108836\n",
       "2311  Russia  1943        16.000000\n",
       "2301  Russia  1933        17.350000\n",
       "2216  Russia  1848        18.000000\n",
       "2310  Russia  1942        18.000000\n",
       "...      ...   ...              ...\n",
       "1946   Japan  2012        83.230003\n",
       "1947   Japan  2013        83.440002\n",
       "1948   Japan  2014        83.690002\n",
       "1949   Japan  2015        83.830002\n",
       "1950   Japan  2016        83.940002\n",
       "\n",
       "[3253 rows x 3 columns]"
      ]
     },
     "execution_count": 227,
     "metadata": {},
     "output_type": "execute_result"
    }
   ],
   "source": [
    "df.sort_values(\"Life expectancy\")"
   ]
  },
  {
   "cell_type": "markdown",
   "id": "67897495",
   "metadata": {},
   "source": [
    "### Label Encoding Countries"
   ]
  },
  {
   "cell_type": "code",
   "execution_count": 228,
   "id": "a38e4477",
   "metadata": {
    "scrolled": true
   },
   "outputs": [],
   "source": [
    "from sklearn.preprocessing import LabelEncoder\n",
    "label_encoder = LabelEncoder()  \n",
    "df['labels'] = label_encoder.fit_transform(df.loc[:, 'Entity'])"
   ]
  },
  {
   "cell_type": "code",
   "execution_count": 229,
   "id": "ca2b7c6b",
   "metadata": {
    "scrolled": false
   },
   "outputs": [
    {
     "data": {
      "text/html": [
       "<div>\n",
       "<style scoped>\n",
       "    .dataframe tbody tr th:only-of-type {\n",
       "        vertical-align: middle;\n",
       "    }\n",
       "\n",
       "    .dataframe tbody tr th {\n",
       "        vertical-align: top;\n",
       "    }\n",
       "\n",
       "    .dataframe thead th {\n",
       "        text-align: right;\n",
       "    }\n",
       "</style>\n",
       "<table border=\"1\" class=\"dataframe\">\n",
       "  <thead>\n",
       "    <tr style=\"text-align: right;\">\n",
       "      <th></th>\n",
       "      <th>Entity</th>\n",
       "      <th>Year</th>\n",
       "      <th>Life expectancy</th>\n",
       "      <th>labels</th>\n",
       "    </tr>\n",
       "  </thead>\n",
       "  <tbody>\n",
       "    <tr>\n",
       "      <th>0</th>\n",
       "      <td>Australia</td>\n",
       "      <td>1802</td>\n",
       "      <td>34.049999</td>\n",
       "      <td>0</td>\n",
       "    </tr>\n",
       "    <tr>\n",
       "      <th>1</th>\n",
       "      <td>Australia</td>\n",
       "      <td>1803</td>\n",
       "      <td>34.049999</td>\n",
       "      <td>0</td>\n",
       "    </tr>\n",
       "    <tr>\n",
       "      <th>2</th>\n",
       "      <td>Australia</td>\n",
       "      <td>1804</td>\n",
       "      <td>34.049999</td>\n",
       "      <td>0</td>\n",
       "    </tr>\n",
       "    <tr>\n",
       "      <th>3</th>\n",
       "      <td>Australia</td>\n",
       "      <td>1805</td>\n",
       "      <td>34.049999</td>\n",
       "      <td>0</td>\n",
       "    </tr>\n",
       "    <tr>\n",
       "      <th>4</th>\n",
       "      <td>Australia</td>\n",
       "      <td>1806</td>\n",
       "      <td>34.049999</td>\n",
       "      <td>0</td>\n",
       "    </tr>\n",
       "    <tr>\n",
       "      <th>...</th>\n",
       "      <td>...</td>\n",
       "      <td>...</td>\n",
       "      <td>...</td>\n",
       "      <td>...</td>\n",
       "    </tr>\n",
       "    <tr>\n",
       "      <th>3248</th>\n",
       "      <td>United States</td>\n",
       "      <td>2012</td>\n",
       "      <td>78.940002</td>\n",
       "      <td>14</td>\n",
       "    </tr>\n",
       "    <tr>\n",
       "      <th>3249</th>\n",
       "      <td>United States</td>\n",
       "      <td>2013</td>\n",
       "      <td>78.959999</td>\n",
       "      <td>14</td>\n",
       "    </tr>\n",
       "    <tr>\n",
       "      <th>3250</th>\n",
       "      <td>United States</td>\n",
       "      <td>2014</td>\n",
       "      <td>78.940002</td>\n",
       "      <td>14</td>\n",
       "    </tr>\n",
       "    <tr>\n",
       "      <th>3251</th>\n",
       "      <td>United States</td>\n",
       "      <td>2015</td>\n",
       "      <td>78.870003</td>\n",
       "      <td>14</td>\n",
       "    </tr>\n",
       "    <tr>\n",
       "      <th>3252</th>\n",
       "      <td>United States</td>\n",
       "      <td>2016</td>\n",
       "      <td>78.860001</td>\n",
       "      <td>14</td>\n",
       "    </tr>\n",
       "  </tbody>\n",
       "</table>\n",
       "<p>3253 rows × 4 columns</p>\n",
       "</div>"
      ],
      "text/plain": [
       "             Entity  Year  Life expectancy  labels\n",
       "0         Australia  1802        34.049999       0\n",
       "1         Australia  1803        34.049999       0\n",
       "2         Australia  1804        34.049999       0\n",
       "3         Australia  1805        34.049999       0\n",
       "4         Australia  1806        34.049999       0\n",
       "...             ...   ...              ...     ...\n",
       "3248  United States  2012        78.940002      14\n",
       "3249  United States  2013        78.959999      14\n",
       "3250  United States  2014        78.940002      14\n",
       "3251  United States  2015        78.870003      14\n",
       "3252  United States  2016        78.860001      14\n",
       "\n",
       "[3253 rows x 4 columns]"
      ]
     },
     "execution_count": 229,
     "metadata": {},
     "output_type": "execute_result"
    }
   ],
   "source": [
    "df"
   ]
  },
  {
   "cell_type": "markdown",
   "id": "344e2893",
   "metadata": {},
   "source": [
    "### Label Encoded Values - Tabular Representation"
   ]
  },
  {
   "cell_type": "markdown",
   "id": "39c43d9a",
   "metadata": {},
   "source": [
    "|     Country    \t| Encoded Label \t|\n",
    "|:--------------:\t|:-------------:\t|\n",
    "|    Australia   \t|       0       \t|\n",
    "|     Brazil     \t|       1       \t|\n",
    "|     Canada     \t|       2       \t|\n",
    "|      China     \t|       3       \t|\n",
    "|     France     \t|       4       \t|\n",
    "|     Germany    \t|       5       \t|\n",
    "|      India     \t|       6       \t|\n",
    "|      Italy     \t|       7       \t|\n",
    "|      Japan     \t|       8       \t|\n",
    "|     Mexico     \t|       9       \t|\n",
    "|     Russia     \t|       10      \t|\n",
    "|      Spain     \t|       11      \t|\n",
    "|   Switzerland  \t|       12      \t|\n",
    "| United Kingdom \t|       13      \t|\n",
    "|  United States \t|       14      \t|"
   ]
  },
  {
   "cell_type": "markdown",
   "id": "6c414cc4",
   "metadata": {},
   "source": [
    "### Dropping X & Y Values"
   ]
  },
  {
   "cell_type": "code",
   "execution_count": 230,
   "id": "f961b245",
   "metadata": {},
   "outputs": [
    {
     "data": {
      "text/html": [
       "<div>\n",
       "<style scoped>\n",
       "    .dataframe tbody tr th:only-of-type {\n",
       "        vertical-align: middle;\n",
       "    }\n",
       "\n",
       "    .dataframe tbody tr th {\n",
       "        vertical-align: top;\n",
       "    }\n",
       "\n",
       "    .dataframe thead th {\n",
       "        text-align: right;\n",
       "    }\n",
       "</style>\n",
       "<table border=\"1\" class=\"dataframe\">\n",
       "  <thead>\n",
       "    <tr style=\"text-align: right;\">\n",
       "      <th></th>\n",
       "      <th>Entity</th>\n",
       "      <th>Year</th>\n",
       "      <th>labels</th>\n",
       "    </tr>\n",
       "  </thead>\n",
       "  <tbody>\n",
       "    <tr>\n",
       "      <th>0</th>\n",
       "      <td>Australia</td>\n",
       "      <td>1802</td>\n",
       "      <td>0</td>\n",
       "    </tr>\n",
       "    <tr>\n",
       "      <th>1</th>\n",
       "      <td>Australia</td>\n",
       "      <td>1803</td>\n",
       "      <td>0</td>\n",
       "    </tr>\n",
       "    <tr>\n",
       "      <th>2</th>\n",
       "      <td>Australia</td>\n",
       "      <td>1804</td>\n",
       "      <td>0</td>\n",
       "    </tr>\n",
       "    <tr>\n",
       "      <th>3</th>\n",
       "      <td>Australia</td>\n",
       "      <td>1805</td>\n",
       "      <td>0</td>\n",
       "    </tr>\n",
       "    <tr>\n",
       "      <th>4</th>\n",
       "      <td>Australia</td>\n",
       "      <td>1806</td>\n",
       "      <td>0</td>\n",
       "    </tr>\n",
       "    <tr>\n",
       "      <th>...</th>\n",
       "      <td>...</td>\n",
       "      <td>...</td>\n",
       "      <td>...</td>\n",
       "    </tr>\n",
       "    <tr>\n",
       "      <th>3248</th>\n",
       "      <td>United States</td>\n",
       "      <td>2012</td>\n",
       "      <td>14</td>\n",
       "    </tr>\n",
       "    <tr>\n",
       "      <th>3249</th>\n",
       "      <td>United States</td>\n",
       "      <td>2013</td>\n",
       "      <td>14</td>\n",
       "    </tr>\n",
       "    <tr>\n",
       "      <th>3250</th>\n",
       "      <td>United States</td>\n",
       "      <td>2014</td>\n",
       "      <td>14</td>\n",
       "    </tr>\n",
       "    <tr>\n",
       "      <th>3251</th>\n",
       "      <td>United States</td>\n",
       "      <td>2015</td>\n",
       "      <td>14</td>\n",
       "    </tr>\n",
       "    <tr>\n",
       "      <th>3252</th>\n",
       "      <td>United States</td>\n",
       "      <td>2016</td>\n",
       "      <td>14</td>\n",
       "    </tr>\n",
       "  </tbody>\n",
       "</table>\n",
       "<p>3253 rows × 3 columns</p>\n",
       "</div>"
      ],
      "text/plain": [
       "             Entity  Year  labels\n",
       "0         Australia  1802       0\n",
       "1         Australia  1803       0\n",
       "2         Australia  1804       0\n",
       "3         Australia  1805       0\n",
       "4         Australia  1806       0\n",
       "...             ...   ...     ...\n",
       "3248  United States  2012      14\n",
       "3249  United States  2013      14\n",
       "3250  United States  2014      14\n",
       "3251  United States  2015      14\n",
       "3252  United States  2016      14\n",
       "\n",
       "[3253 rows x 3 columns]"
      ]
     },
     "execution_count": 230,
     "metadata": {},
     "output_type": "execute_result"
    }
   ],
   "source": [
    "y = df['Life expectancy']\n",
    "df = df.drop(labels='Life expectancy', axis=1)\n",
    "df"
   ]
  },
  {
   "cell_type": "code",
   "execution_count": 231,
   "id": "7a88ccdc",
   "metadata": {},
   "outputs": [
    {
     "data": {
      "text/plain": [
       "0       34.049999\n",
       "1       34.049999\n",
       "2       34.049999\n",
       "3       34.049999\n",
       "4       34.049999\n",
       "          ...    \n",
       "3248    78.940002\n",
       "3249    78.959999\n",
       "3250    78.940002\n",
       "3251    78.870003\n",
       "3252    78.860001\n",
       "Name: Life expectancy, Length: 3253, dtype: float64"
      ]
     },
     "execution_count": 231,
     "metadata": {},
     "output_type": "execute_result"
    }
   ],
   "source": [
    "y"
   ]
  },
  {
   "cell_type": "code",
   "execution_count": 232,
   "id": "41a36a97",
   "metadata": {},
   "outputs": [
    {
     "data": {
      "text/plain": [
       "array([34.049999, 34.049999, 34.049999, ..., 78.940002, 78.870003,\n",
       "       78.860001])"
      ]
     },
     "execution_count": 232,
     "metadata": {},
     "output_type": "execute_result"
    }
   ],
   "source": [
    "y = y.to_numpy(dtype='float64')\n",
    "y"
   ]
  },
  {
   "cell_type": "code",
   "execution_count": 233,
   "id": "0c6d2721",
   "metadata": {},
   "outputs": [
    {
     "data": {
      "text/html": [
       "<div>\n",
       "<style scoped>\n",
       "    .dataframe tbody tr th:only-of-type {\n",
       "        vertical-align: middle;\n",
       "    }\n",
       "\n",
       "    .dataframe tbody tr th {\n",
       "        vertical-align: top;\n",
       "    }\n",
       "\n",
       "    .dataframe thead th {\n",
       "        text-align: right;\n",
       "    }\n",
       "</style>\n",
       "<table border=\"1\" class=\"dataframe\">\n",
       "  <thead>\n",
       "    <tr style=\"text-align: right;\">\n",
       "      <th></th>\n",
       "      <th>Entity</th>\n",
       "      <th>Year</th>\n",
       "      <th>labels</th>\n",
       "    </tr>\n",
       "  </thead>\n",
       "  <tbody>\n",
       "    <tr>\n",
       "      <th>0</th>\n",
       "      <td>Australia</td>\n",
       "      <td>1802</td>\n",
       "      <td>0</td>\n",
       "    </tr>\n",
       "    <tr>\n",
       "      <th>1</th>\n",
       "      <td>Australia</td>\n",
       "      <td>1803</td>\n",
       "      <td>0</td>\n",
       "    </tr>\n",
       "    <tr>\n",
       "      <th>2</th>\n",
       "      <td>Australia</td>\n",
       "      <td>1804</td>\n",
       "      <td>0</td>\n",
       "    </tr>\n",
       "    <tr>\n",
       "      <th>3</th>\n",
       "      <td>Australia</td>\n",
       "      <td>1805</td>\n",
       "      <td>0</td>\n",
       "    </tr>\n",
       "    <tr>\n",
       "      <th>4</th>\n",
       "      <td>Australia</td>\n",
       "      <td>1806</td>\n",
       "      <td>0</td>\n",
       "    </tr>\n",
       "    <tr>\n",
       "      <th>...</th>\n",
       "      <td>...</td>\n",
       "      <td>...</td>\n",
       "      <td>...</td>\n",
       "    </tr>\n",
       "    <tr>\n",
       "      <th>3248</th>\n",
       "      <td>United States</td>\n",
       "      <td>2012</td>\n",
       "      <td>14</td>\n",
       "    </tr>\n",
       "    <tr>\n",
       "      <th>3249</th>\n",
       "      <td>United States</td>\n",
       "      <td>2013</td>\n",
       "      <td>14</td>\n",
       "    </tr>\n",
       "    <tr>\n",
       "      <th>3250</th>\n",
       "      <td>United States</td>\n",
       "      <td>2014</td>\n",
       "      <td>14</td>\n",
       "    </tr>\n",
       "    <tr>\n",
       "      <th>3251</th>\n",
       "      <td>United States</td>\n",
       "      <td>2015</td>\n",
       "      <td>14</td>\n",
       "    </tr>\n",
       "    <tr>\n",
       "      <th>3252</th>\n",
       "      <td>United States</td>\n",
       "      <td>2016</td>\n",
       "      <td>14</td>\n",
       "    </tr>\n",
       "  </tbody>\n",
       "</table>\n",
       "<p>3253 rows × 3 columns</p>\n",
       "</div>"
      ],
      "text/plain": [
       "             Entity  Year  labels\n",
       "0         Australia  1802       0\n",
       "1         Australia  1803       0\n",
       "2         Australia  1804       0\n",
       "3         Australia  1805       0\n",
       "4         Australia  1806       0\n",
       "...             ...   ...     ...\n",
       "3248  United States  2012      14\n",
       "3249  United States  2013      14\n",
       "3250  United States  2014      14\n",
       "3251  United States  2015      14\n",
       "3252  United States  2016      14\n",
       "\n",
       "[3253 rows x 3 columns]"
      ]
     },
     "execution_count": 233,
     "metadata": {},
     "output_type": "execute_result"
    }
   ],
   "source": [
    "X = df\n",
    "X"
   ]
  },
  {
   "cell_type": "code",
   "execution_count": 234,
   "id": "95b554a1",
   "metadata": {
    "scrolled": false
   },
   "outputs": [
    {
     "data": {
      "text/html": [
       "<div>\n",
       "<style scoped>\n",
       "    .dataframe tbody tr th:only-of-type {\n",
       "        vertical-align: middle;\n",
       "    }\n",
       "\n",
       "    .dataframe tbody tr th {\n",
       "        vertical-align: top;\n",
       "    }\n",
       "\n",
       "    .dataframe thead th {\n",
       "        text-align: right;\n",
       "    }\n",
       "</style>\n",
       "<table border=\"1\" class=\"dataframe\">\n",
       "  <thead>\n",
       "    <tr style=\"text-align: right;\">\n",
       "      <th></th>\n",
       "      <th>Year</th>\n",
       "      <th>labels</th>\n",
       "    </tr>\n",
       "  </thead>\n",
       "  <tbody>\n",
       "    <tr>\n",
       "      <th>0</th>\n",
       "      <td>1802</td>\n",
       "      <td>0</td>\n",
       "    </tr>\n",
       "    <tr>\n",
       "      <th>1</th>\n",
       "      <td>1803</td>\n",
       "      <td>0</td>\n",
       "    </tr>\n",
       "    <tr>\n",
       "      <th>2</th>\n",
       "      <td>1804</td>\n",
       "      <td>0</td>\n",
       "    </tr>\n",
       "    <tr>\n",
       "      <th>3</th>\n",
       "      <td>1805</td>\n",
       "      <td>0</td>\n",
       "    </tr>\n",
       "    <tr>\n",
       "      <th>4</th>\n",
       "      <td>1806</td>\n",
       "      <td>0</td>\n",
       "    </tr>\n",
       "    <tr>\n",
       "      <th>...</th>\n",
       "      <td>...</td>\n",
       "      <td>...</td>\n",
       "    </tr>\n",
       "    <tr>\n",
       "      <th>3248</th>\n",
       "      <td>2012</td>\n",
       "      <td>14</td>\n",
       "    </tr>\n",
       "    <tr>\n",
       "      <th>3249</th>\n",
       "      <td>2013</td>\n",
       "      <td>14</td>\n",
       "    </tr>\n",
       "    <tr>\n",
       "      <th>3250</th>\n",
       "      <td>2014</td>\n",
       "      <td>14</td>\n",
       "    </tr>\n",
       "    <tr>\n",
       "      <th>3251</th>\n",
       "      <td>2015</td>\n",
       "      <td>14</td>\n",
       "    </tr>\n",
       "    <tr>\n",
       "      <th>3252</th>\n",
       "      <td>2016</td>\n",
       "      <td>14</td>\n",
       "    </tr>\n",
       "  </tbody>\n",
       "</table>\n",
       "<p>3253 rows × 2 columns</p>\n",
       "</div>"
      ],
      "text/plain": [
       "      Year  labels\n",
       "0     1802       0\n",
       "1     1803       0\n",
       "2     1804       0\n",
       "3     1805       0\n",
       "4     1806       0\n",
       "...    ...     ...\n",
       "3248  2012      14\n",
       "3249  2013      14\n",
       "3250  2014      14\n",
       "3251  2015      14\n",
       "3252  2016      14\n",
       "\n",
       "[3253 rows x 2 columns]"
      ]
     },
     "execution_count": 234,
     "metadata": {},
     "output_type": "execute_result"
    }
   ],
   "source": [
    "X = X.drop(labels=['Entity'],axis=1)\n",
    "X"
   ]
  },
  {
   "cell_type": "markdown",
   "id": "00932d05",
   "metadata": {},
   "source": [
    "### Splitting dataset into Train - Test "
   ]
  },
  {
   "cell_type": "code",
   "execution_count": 235,
   "id": "d9a6b1ee",
   "metadata": {},
   "outputs": [],
   "source": [
    "from sklearn.model_selection import train_test_split\n",
    "X_train, X_test, y_train, y_test = train_test_split(X, y, train_size = 0.8, random_state=42)"
   ]
  },
  {
   "cell_type": "code",
   "execution_count": 236,
   "id": "db7c2e9d",
   "metadata": {},
   "outputs": [
    {
     "data": {
      "text/html": [
       "<div>\n",
       "<style scoped>\n",
       "    .dataframe tbody tr th:only-of-type {\n",
       "        vertical-align: middle;\n",
       "    }\n",
       "\n",
       "    .dataframe tbody tr th {\n",
       "        vertical-align: top;\n",
       "    }\n",
       "\n",
       "    .dataframe thead th {\n",
       "        text-align: right;\n",
       "    }\n",
       "</style>\n",
       "<table border=\"1\" class=\"dataframe\">\n",
       "  <thead>\n",
       "    <tr style=\"text-align: right;\">\n",
       "      <th></th>\n",
       "      <th>Year</th>\n",
       "      <th>labels</th>\n",
       "    </tr>\n",
       "  </thead>\n",
       "  <tbody>\n",
       "    <tr>\n",
       "      <th>3191</th>\n",
       "      <td>1955</td>\n",
       "      <td>14</td>\n",
       "    </tr>\n",
       "    <tr>\n",
       "      <th>1315</th>\n",
       "      <td>1815</td>\n",
       "      <td>6</td>\n",
       "    </tr>\n",
       "    <tr>\n",
       "      <th>1124</th>\n",
       "      <td>1841</td>\n",
       "      <td>5</td>\n",
       "    </tr>\n",
       "    <tr>\n",
       "      <th>765</th>\n",
       "      <td>1916</td>\n",
       "      <td>3</td>\n",
       "    </tr>\n",
       "    <tr>\n",
       "      <th>818</th>\n",
       "      <td>1969</td>\n",
       "      <td>3</td>\n",
       "    </tr>\n",
       "    <tr>\n",
       "      <th>...</th>\n",
       "      <td>...</td>\n",
       "      <td>...</td>\n",
       "    </tr>\n",
       "    <tr>\n",
       "      <th>1095</th>\n",
       "      <td>1812</td>\n",
       "      <td>5</td>\n",
       "    </tr>\n",
       "    <tr>\n",
       "      <th>1130</th>\n",
       "      <td>1847</td>\n",
       "      <td>5</td>\n",
       "    </tr>\n",
       "    <tr>\n",
       "      <th>1294</th>\n",
       "      <td>2011</td>\n",
       "      <td>5</td>\n",
       "    </tr>\n",
       "    <tr>\n",
       "      <th>860</th>\n",
       "      <td>2011</td>\n",
       "      <td>3</td>\n",
       "    </tr>\n",
       "    <tr>\n",
       "      <th>3174</th>\n",
       "      <td>1938</td>\n",
       "      <td>14</td>\n",
       "    </tr>\n",
       "  </tbody>\n",
       "</table>\n",
       "<p>2602 rows × 2 columns</p>\n",
       "</div>"
      ],
      "text/plain": [
       "      Year  labels\n",
       "3191  1955      14\n",
       "1315  1815       6\n",
       "1124  1841       5\n",
       "765   1916       3\n",
       "818   1969       3\n",
       "...    ...     ...\n",
       "1095  1812       5\n",
       "1130  1847       5\n",
       "1294  2011       5\n",
       "860   2011       3\n",
       "3174  1938      14\n",
       "\n",
       "[2602 rows x 2 columns]"
      ]
     },
     "execution_count": 236,
     "metadata": {},
     "output_type": "execute_result"
    }
   ],
   "source": [
    "X_train"
   ]
  },
  {
   "cell_type": "code",
   "execution_count": 237,
   "id": "2f54e0c9",
   "metadata": {
    "scrolled": true
   },
   "outputs": [
    {
     "data": {
      "text/plain": [
       "array([69.629997, 25.4424  , 38.369999, ..., 80.32    , 74.870003,\n",
       "       62.43    ])"
      ]
     },
     "execution_count": 237,
     "metadata": {},
     "output_type": "execute_result"
    }
   ],
   "source": [
    "y_train"
   ]
  },
  {
   "cell_type": "markdown",
   "id": "1f580b76",
   "metadata": {},
   "source": [
    "### Preprocessing - Standardization"
   ]
  },
  {
   "cell_type": "code",
   "execution_count": 238,
   "id": "890bee25",
   "metadata": {},
   "outputs": [],
   "source": [
    "from sklearn import preprocessing, linear_model, model_selection, metrics\n",
    "\n",
    "scaler = preprocessing.StandardScaler()\n",
    "X_train = scaler.fit_transform(X_train)\n",
    "X_test = scaler.transform(X_test)"
   ]
  },
  {
   "cell_type": "code",
   "execution_count": 239,
   "id": "c0a09f20",
   "metadata": {
    "scrolled": true
   },
   "outputs": [
    {
     "data": {
      "text/plain": [
       "array([[ 0.75519552,  1.60575071],\n",
       "       [-1.4767477 , -0.25752521],\n",
       "       [-1.06224396, -0.4904347 ],\n",
       "       ...,\n",
       "       [ 1.64797281, -0.4904347 ],\n",
       "       [ 1.64797281, -0.95625368],\n",
       "       [ 0.48417385,  1.60575071]])"
      ]
     },
     "execution_count": 239,
     "metadata": {},
     "output_type": "execute_result"
    }
   ],
   "source": [
    "X_train"
   ]
  },
  {
   "cell_type": "markdown",
   "id": "403a6c66",
   "metadata": {},
   "source": [
    "# Models"
   ]
  },
  {
   "cell_type": "markdown",
   "id": "1b462844",
   "metadata": {},
   "source": [
    "### KNN - Scratch"
   ]
  },
  {
   "cell_type": "code",
   "execution_count": 240,
   "id": "07e1d0cb",
   "metadata": {},
   "outputs": [],
   "source": [
    "def euclid_distance(a,b):\n",
    "    \n",
    "    dist = (a-b)**2\n",
    "    return np.sqrt(np.sum(dist))"
   ]
  },
  {
   "cell_type": "code",
   "execution_count": 241,
   "id": "0f423259",
   "metadata": {},
   "outputs": [],
   "source": [
    "class KNeighbourRegressor():\n",
    "    \n",
    "    def __init__(self,k):\n",
    "        self.k = k\n",
    "    \n",
    "    def fit(self,X,y):\n",
    "        \n",
    "        self.X_train = X\n",
    "        self.y_train = y\n",
    "\n",
    "    \n",
    "    def predictions(self,x):\n",
    "        \n",
    "        distances = [euclid_distance(x,x_train) for x_train in self.X_train]\n",
    "        \n",
    "        k_indices = np.argsort(distances)[:self.k]\n",
    "        k_nearest_labels = [self.y_train[i] for i in k_indices]\n",
    "        \n",
    "        y_pred = np.mean(k_nearest_labels)\n",
    "        \n",
    "        return y_pred\n",
    "    \n",
    "        \n",
    "    def predict(self,X):\n",
    "        \n",
    "        predicted_labels = [self.predictions(x) for x in X]\n",
    "            \n",
    "        return np.array(predicted_labels)"
   ]
  },
  {
   "cell_type": "markdown",
   "id": "bd7118ca",
   "metadata": {},
   "source": [
    "### Linear Regression - Scratch"
   ]
  },
  {
   "cell_type": "code",
   "execution_count": 242,
   "id": "8c62db43",
   "metadata": {},
   "outputs": [],
   "source": [
    "class LinearRegression:\n",
    "    \n",
    "    def __init__(self,X,Y):\n",
    "        \n",
    "        self.X_train = X\n",
    "        self.y_train = Y\n",
    "        \n",
    "    def gradient_descent(self,x, y, iter = 100, lr = 0.08):\n",
    "        \n",
    "        m, n, b = np.zeros(x.shape[1]), (-2*lr)/x.shape[0], 0\n",
    "        \n",
    "        for _ in range(iter):\n",
    "            yd = [j-(sum(m*i)+b) for i, j in zip(x, y)]\n",
    "            m -= n*sum([i*j for i,j in zip(x, yd)])\n",
    "            b -= n*sum(yd)\n",
    "            \n",
    "        return m, b\n",
    "    \n",
    "    def fit(self,x, y):\n",
    "        \n",
    "        coef,intercept = self.gradient_descent(x, y)\n",
    "        return coef,intercept\n",
    "    \n",
    "    def predict(self,x):\n",
    "        \n",
    "        m,b = self.fit(self.X_train,self.y_train)\n",
    "        return np.dot(x,m) + b"
   ]
  },
  {
   "cell_type": "markdown",
   "id": "64d8b439",
   "metadata": {},
   "source": [
    "### SVR - Inbuilt"
   ]
  },
  {
   "cell_type": "code",
   "execution_count": 243,
   "id": "844c0050",
   "metadata": {},
   "outputs": [],
   "source": [
    "from sklearn.svm import SVR\n",
    "svr = SVR()"
   ]
  },
  {
   "cell_type": "markdown",
   "id": "87348c97",
   "metadata": {},
   "source": [
    "### Cross Validation Using KFold"
   ]
  },
  {
   "cell_type": "code",
   "execution_count": 244,
   "id": "2aa2e6f8",
   "metadata": {},
   "outputs": [],
   "source": [
    "from sklearn.model_selection import KFold"
   ]
  },
  {
   "cell_type": "code",
   "execution_count": 1,
   "id": "74c4bf7f",
   "metadata": {},
   "outputs": [],
   "source": [
    "def kfold(x,y,model):\n",
    "    \n",
    "    res = []\n",
    "    \n",
    "    model_accuracies = []\n",
    "    \n",
    "    kf = KFold(n_splits = 5)\n",
    "    \n",
    "    for train_index, test_index in kf.split(x):\n",
    "        \n",
    "        X_train, X_valid = x[train_index], x[test_index]\n",
    "        Y_train, Y_valid = y[train_index], y[test_index]\n",
    "\n",
    "        model.fit(X_train, Y_train)\n",
    "        Y_pred = model.predict(X_valid)\n",
    "        \n",
    "        score = metrics.r2_score(Y_valid, Y_pred)\n",
    "        model_accuracies.append(score)\n",
    "        res.append(score)\n",
    "        \n",
    "    return res,(sorted(model_accuracies)[-1])"
   ]
  },
  {
   "cell_type": "markdown",
   "id": "1709a22c",
   "metadata": {},
   "source": [
    "### KNN - Highest Validation Accuracy"
   ]
  },
  {
   "cell_type": "code",
   "execution_count": 246,
   "id": "c0018ae6",
   "metadata": {
    "scrolled": false
   },
   "outputs": [
    {
     "name": "stdout",
     "output_type": "stream",
     "text": [
      "KNN: 0.9949230858291616\n"
     ]
    }
   ],
   "source": [
    "KNN = KNeighbourRegressor(5)\n",
    "box_KNN,best_out = kfold(X_train,y_train,KNN)\n",
    "print(\"KNN:\",best_out)"
   ]
  },
  {
   "cell_type": "markdown",
   "id": "a62b81df",
   "metadata": {},
   "source": [
    "### Linear Regression - Highest Validation Accuracy"
   ]
  },
  {
   "cell_type": "code",
   "execution_count": 247,
   "id": "094a06cc",
   "metadata": {},
   "outputs": [
    {
     "name": "stdout",
     "output_type": "stream",
     "text": [
      "LR: 0.7378931401616659\n"
     ]
    }
   ],
   "source": [
    "LR = LinearRegression(X_train,y_train)\n",
    "box_LR,best_out = kfold(X_train,y_train,LR)\n",
    "print(\"LR:\",best_out)"
   ]
  },
  {
   "cell_type": "markdown",
   "id": "f5b74e14",
   "metadata": {},
   "source": [
    "### Support Vector Regression - Highest Validation Accuracy"
   ]
  },
  {
   "cell_type": "code",
   "execution_count": 2,
   "id": "6701d8a4",
   "metadata": {
    "scrolled": false
   },
   "outputs": [
    {
     "ename": "NameError",
     "evalue": "name 'X_train' is not defined",
     "output_type": "error",
     "traceback": [
      "\u001b[0;31m---------------------------------------------------------------------------\u001b[0m",
      "\u001b[0;31mNameError\u001b[0m                                 Traceback (most recent call last)",
      "\u001b[0;32m<ipython-input-2-42f21453a942>\u001b[0m in \u001b[0;36m<module>\u001b[0;34m\u001b[0m\n\u001b[0;32m----> 1\u001b[0;31m \u001b[0mbox_SVR\u001b[0m\u001b[0;34m,\u001b[0m\u001b[0mbest_out\u001b[0m \u001b[0;34m=\u001b[0m \u001b[0mkfold\u001b[0m\u001b[0;34m(\u001b[0m\u001b[0mX_train\u001b[0m\u001b[0;34m,\u001b[0m\u001b[0my_train\u001b[0m\u001b[0;34m,\u001b[0m\u001b[0msvr\u001b[0m\u001b[0;34m)\u001b[0m\u001b[0;34m\u001b[0m\u001b[0;34m\u001b[0m\u001b[0m\n\u001b[0m\u001b[1;32m      2\u001b[0m \u001b[0mprint\u001b[0m\u001b[0;34m(\u001b[0m\u001b[0;34m\"SVR:\"\u001b[0m\u001b[0;34m,\u001b[0m\u001b[0mbest_out\u001b[0m\u001b[0;34m)\u001b[0m\u001b[0;34m\u001b[0m\u001b[0;34m\u001b[0m\u001b[0m\n",
      "\u001b[0;31mNameError\u001b[0m: name 'X_train' is not defined"
     ]
    }
   ],
   "source": [
    "box_SVR,best_out = kfold(X_train,y_train,svr)\n",
    "print(\"SVR:\",best_out)"
   ]
  },
  {
   "cell_type": "markdown",
   "id": "e2feca1f",
   "metadata": {},
   "source": [
    "## EVALUATING THE MODELS USING METRICS"
   ]
  },
  {
   "cell_type": "markdown",
   "id": "ee1952d1",
   "metadata": {},
   "source": [
    "### Finding The Best Model Using Test Data"
   ]
  },
  {
   "cell_type": "markdown",
   "id": "5edc3b0a",
   "metadata": {},
   "source": [
    "### Calcualting Mean Absolute Error"
   ]
  },
  {
   "cell_type": "code",
   "execution_count": 249,
   "id": "9cb58cd3",
   "metadata": {},
   "outputs": [],
   "source": [
    "def MAE(Y_actual,Y_Predicted):\n",
    "    mae = np.mean(np.abs((Y_actual - Y_Predicted)/Y_actual))*100\n",
    "    return mae"
   ]
  },
  {
   "cell_type": "markdown",
   "id": "2040a57a",
   "metadata": {},
   "source": [
    "### Linear Regression - Testing"
   ]
  },
  {
   "cell_type": "code",
   "execution_count": 250,
   "id": "7552098c",
   "metadata": {},
   "outputs": [],
   "source": [
    "y_pred_LR = LR.predict(X_test)"
   ]
  },
  {
   "cell_type": "code",
   "execution_count": 251,
   "id": "6214d8e3",
   "metadata": {},
   "outputs": [
    {
     "data": {
      "text/plain": [
       "0.699620078031356"
      ]
     },
     "execution_count": 251,
     "metadata": {},
     "output_type": "execute_result"
    }
   ],
   "source": [
    "metrics.r2_score(y_test, y_pred_LR)"
   ]
  },
  {
   "cell_type": "code",
   "execution_count": 252,
   "id": "b5f0efe6",
   "metadata": {
    "scrolled": false
   },
   "outputs": [
    {
     "name": "stdout",
     "output_type": "stream",
     "text": [
      "MAE:  20.417826290376308\n",
      "Accuracy of LR model: 79.58%.\n"
     ]
    }
   ],
   "source": [
    "LR_MAE = MAE(y_test,y_pred_LR)\n",
    "Accuracy_LR = 100 - LR_MAE\n",
    "print(\"MAE: \",LR_MAE)\n",
    "print('Accuracy of LR model: {:0.2f}%.'.format(Accuracy_LR))"
   ]
  },
  {
   "cell_type": "markdown",
   "id": "f81abf52",
   "metadata": {},
   "source": [
    "### KNN - Testing"
   ]
  },
  {
   "cell_type": "code",
   "execution_count": 253,
   "id": "c71b69f4",
   "metadata": {},
   "outputs": [],
   "source": [
    "y_pred_KNN = KNN.predict(X_test)"
   ]
  },
  {
   "cell_type": "code",
   "execution_count": 254,
   "id": "2db0f6e4",
   "metadata": {},
   "outputs": [
    {
     "data": {
      "text/plain": [
       "0.9916390572524313"
      ]
     },
     "execution_count": 254,
     "metadata": {},
     "output_type": "execute_result"
    }
   ],
   "source": [
    "metrics.r2_score(y_test, y_pred_KNN)"
   ]
  },
  {
   "cell_type": "code",
   "execution_count": 255,
   "id": "f73d98d6",
   "metadata": {
    "scrolled": false
   },
   "outputs": [
    {
     "name": "stdout",
     "output_type": "stream",
     "text": [
      "Mean Absolute Error:  1.7614748468969457\n",
      "Accuracy of KNN model: 98.24%.\n"
     ]
    }
   ],
   "source": [
    "KNN_MAE = MAE(y_test,y_pred_KNN)\n",
    "Accuracy_KNN = 100 - KNN_MAE\n",
    "print(\"Mean Absolute Error: \",KNN_MAE)\n",
    "print('Accuracy of KNN model: {:0.2f}%.'.format(Accuracy_KNN))"
   ]
  },
  {
   "cell_type": "markdown",
   "id": "1fad5558",
   "metadata": {},
   "source": [
    "### SVR - Testing"
   ]
  },
  {
   "cell_type": "code",
   "execution_count": 256,
   "id": "831ad8e9",
   "metadata": {},
   "outputs": [],
   "source": [
    "y_pred_SVR = svr.predict(X_test)"
   ]
  },
  {
   "cell_type": "code",
   "execution_count": 257,
   "id": "aec373c8",
   "metadata": {},
   "outputs": [
    {
     "data": {
      "text/plain": [
       "0.8018846132020336"
      ]
     },
     "execution_count": 257,
     "metadata": {},
     "output_type": "execute_result"
    }
   ],
   "source": [
    "metrics.r2_score(y_test, y_pred_SVR)"
   ]
  },
  {
   "cell_type": "code",
   "execution_count": 258,
   "id": "a135f9d0",
   "metadata": {
    "scrolled": true
   },
   "outputs": [
    {
     "name": "stdout",
     "output_type": "stream",
     "text": [
      "MAE:  13.853596851533279\n",
      "Accuracy of SVR model: 86.15%.\n"
     ]
    }
   ],
   "source": [
    "SVR_MAE = MAE(y_test,y_pred_SVR)\n",
    "Accuracy_SVR = 100 - SVR_MAE\n",
    "print(\"MAE: \",SVR_MAE)\n",
    "print('Accuracy of SVR model: {:0.2f}%.'.format(Accuracy_SVR))"
   ]
  },
  {
   "cell_type": "markdown",
   "id": "f62815ca",
   "metadata": {},
   "source": [
    ">KNN Model has the highest accuracy of 98.24%"
   ]
  },
  {
   "cell_type": "markdown",
   "id": "be07348c",
   "metadata": {},
   "source": [
    "### Predicting new data with the best model - KNN"
   ]
  },
  {
   "cell_type": "code",
   "execution_count": 259,
   "id": "7f507882",
   "metadata": {
    "scrolled": true
   },
   "outputs": [
    {
     "data": {
      "text/plain": [
       "array([[2018,    0]])"
      ]
     },
     "execution_count": 259,
     "metadata": {},
     "output_type": "execute_result"
    }
   ],
   "source": [
    "tester = np.array([[2018,0]])\n",
    "tester"
   ]
  },
  {
   "cell_type": "code",
   "execution_count": 260,
   "id": "ef302b6f",
   "metadata": {},
   "outputs": [
    {
     "data": {
      "text/plain": [
       "array([[ 1.75956997, -1.65498216]])"
      ]
     },
     "execution_count": 260,
     "metadata": {},
     "output_type": "execute_result"
    }
   ],
   "source": [
    "tester = scaler.transform(tester)\n",
    "tester"
   ]
  },
  {
   "cell_type": "markdown",
   "id": "76de6d4f",
   "metadata": {},
   "source": [
    "#### Life Expectancy - Australia - 2018"
   ]
  },
  {
   "cell_type": "code",
   "execution_count": 261,
   "id": "65fcd47e",
   "metadata": {},
   "outputs": [
    {
     "data": {
      "text/plain": [
       "array([82.280002])"
      ]
     },
     "execution_count": 261,
     "metadata": {},
     "output_type": "execute_result"
    }
   ],
   "source": [
    "out = KNN.predict(tester)\n",
    "out"
   ]
  },
  {
   "cell_type": "markdown",
   "id": "fb038331",
   "metadata": {},
   "source": [
    "### Actual Value"
   ]
  },
  {
   "attachments": {
    "australia-le.png": {
     "image/png": "[encoded data removed]"
    }
   },
   "cell_type": "markdown",
   "id": "e971b7c0",
   "metadata": {},
   "source": [
    "![australia-le.png](attachment:australia-le.png)"
   ]
  },
  {
   "cell_type": "markdown",
   "id": "387b0244",
   "metadata": {},
   "source": [
    "### Boxplot Representing Accuracy Rates"
   ]
  },
  {
   "cell_type": "code",
   "execution_count": 262,
   "id": "40a3de46",
   "metadata": {},
   "outputs": [
    {
     "name": "stdout",
     "output_type": "stream",
     "text": [
      "[0.9859930556807104, 0.9907191539401198, 0.988040066453577, 0.9949230858291616, 0.987337483047678]\n",
      "[0.6899998383239085, 0.7222278401587632, 0.7150314673254284, 0.7378931401616659, 0.7258078393635404]\n",
      "[0.7905852762988635, 0.8252569496723728, 0.8042252631185256, 0.8339060166361152, 0.824328562909375]\n"
     ]
    }
   ],
   "source": [
    "print(box_KNN)\n",
    "print(box_LR)\n",
    "print(box_SVR)"
   ]
  },
  {
   "cell_type": "code",
   "execution_count": 263,
   "id": "32b1ec75",
   "metadata": {},
   "outputs": [
    {
     "data": {
      "image/png": "[encoded data removed]",
      "text/plain": [
       "<Figure size 540x540 with 1 Axes>"
      ]
     },
     "metadata": {
      "needs_background": "light"
     },
     "output_type": "display_data"
    }
   ],
   "source": [
    "plt.rcParams[\"figure.figsize\"] = [7.50, 7.50]\n",
    "plt.rcParams[\"figure.autolayout\"] = True\n",
    "\n",
    "box_plot_data=[box_KNN,box_LR,box_SVR]\n",
    "plt.boxplot(box_plot_data,patch_artist=True,labels=['KNR','LR','SVR'],widths=(0.5, 0.5, 0.5))\n",
    "plt.show()"
   ]
  },
  {
   "cell_type": "markdown",
   "id": "c5c81c37",
   "metadata": {},
   "source": [
    ">The accuracy rates of KNR as represented by the boxplot suggest that most of the validation scores are clustered near to the median within the range 0.98 - 0.99. It also depicts that the maximum value lies in the range 0.99 - 0.995 and the minimum value lies in the range 0.98 - 0.99.\n",
    "\n"
   ]
  },
  {
   "cell_type": "markdown",
   "id": "82014509",
   "metadata": {},
   "source": [
    ">The accuracy rates of LR as represented by the boxplot suggest that most of the validation scores are spread out within the range 0.71 - 0.74. It also depicts that the maximum value lies in the range 0.72 - 0.73. However it is observed that the minimum value is an outlier which lies outside the IQR with an accuracy rate of 0.69."
   ]
  },
  {
   "cell_type": "markdown",
   "id": "dbd7fc25",
   "metadata": {},
   "source": [
    ">The accuracy rates of SVR as represented by the boxplot suggest that most of the validation scores are spread out within the range 0.79 - 0.83 with most of the values falling in the lower end of IQR. It also depicts that the maximum value lies in the range 0.82 - 0.83 and the minimum value lies in the range 0.79-0.8."
   ]
  },
  {
   "cell_type": "markdown",
   "id": "cc516012",
   "metadata": {},
   "source": [
    "### KNR Model Accuracy with varying parameters"
   ]
  },
  {
   "cell_type": "code",
   "execution_count": 137,
   "id": "04caeba8",
   "metadata": {},
   "outputs": [],
   "source": [
    "acc_score = []\n",
    "k_values = []\n",
    "\n",
    "for k in range(1,26,2):\n",
    "\n",
    "    KNN = KNeighbourRegressor(k)\n",
    "    _,best_out = kfold(X_train,y_train,KNN)\n",
    "    acc_score.append(best_out)\n",
    "    k_values.append(k)"
   ]
  },
  {
   "cell_type": "code",
   "execution_count": 147,
   "id": "53d5fa57",
   "metadata": {},
   "outputs": [
    {
     "name": "stdout",
     "output_type": "stream",
     "text": [
      "[0.9917346822712663, 0.9934840605657916, 0.9949230858291616, 0.9937085074739476, 0.9930678057243351, 0.9920912876785353, 0.9911802067495948, 0.9902868356188356, 0.9889003487793877, 0.9846980077817081, 0.9780570874717557, 0.96914516826396, 0.9611001027715829]\n",
      "[1, 3, 5, 7, 9, 11, 13, 15, 17, 19, 21, 23, 25]\n"
     ]
    }
   ],
   "source": [
    "print(acc_score)\n",
    "print(k_values)"
   ]
  },
  {
   "cell_type": "code",
   "execution_count": 148,
   "id": "c5cad5eb",
   "metadata": {},
   "outputs": [
    {
     "data": {
      "image/png": "[encoded data removed]",
      "text/plain": [
       "<Figure size 540x540 with 1 Axes>"
      ]
     },
     "metadata": {
      "needs_background": "light"
     },
     "output_type": "display_data"
    }
   ],
   "source": [
    "plt.plot(k_values,acc_score)\n",
    "\n",
    "plt.xlabel('K-Values')\n",
    "plt.ylabel('Accuracy')\n",
    "plt.title('KNN Accurcay-K Values Comparison')\n",
    "plt.show()"
   ]
  },
  {
   "cell_type": "markdown",
   "id": "6f6f3351",
   "metadata": {},
   "source": [
    "> It can be inferred from the graph that as the k-value increases,the accuracy decreases. The parameter value i.e k = 5, gives the highest accuracy among all the other k-values."
   ]
  }
 ],
 "metadata": {
  "kernelspec": {
   "display_name": "Python 3 (ipykernel)",
   "language": "python",
   "name": "python3"
  },
  "language_info": {
   "codemirror_mode": {
    "name": "ipython",
    "version": 3
   },
   "file_extension": ".py",
   "mimetype": "text/x-python",
   "name": "python",
   "nbconvert_exporter": "python",
   "pygments_lexer": "ipython3",
   "version": "3.8.8"
  }
 },
 "nbformat": 4,
 "nbformat_minor": 5
}
